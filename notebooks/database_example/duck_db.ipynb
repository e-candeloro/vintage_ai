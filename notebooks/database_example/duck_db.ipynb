{
 "cells": [
  {
   "cell_type": "code",
   "execution_count": 2,
   "id": "416b2d78",
   "metadata": {},
   "outputs": [],
   "source": [
    "import duckdb\n",
    "import os\n",
    "from dotenv import load_dotenv\n",
    "import duckdb\n",
    "\n",
    "load_dotenv()  # loads .env into environment\n",
    "\n",
    "db_path = os.getenv(\"DUCKDB_PATH\", \"data.duckdb\")  # default fallback\n",
    "\n",
    "con = duckdb.connect(db_path)  # this creates/opens the file\n",
    "\n",
    "# Create a table if it doesn't exist\n",
    "\n",
    "# con.execute(\n",
    "#     \"\"\"\n",
    "# CREATE TABLE IF NOT EXISTS platform_metrics (\n",
    "#     car_id       TEXT,\n",
    "#     platform     TEXT,\n",
    "#     run_ts       TIMESTAMP,\n",
    "#     metrics      JSON,\n",
    "#     PRIMARY KEY (car_id, platform, run_ts)\n",
    "# );\n",
    "\n",
    "# CREATE TABLE IF NOT EXISTS overall_cache (\n",
    "#     car_id       TEXT,\n",
    "#     run_ts       TIMESTAMP,\n",
    "#     metrics      JSON,\n",
    "#     PRIMARY KEY (car_id, run_ts)\n",
    "# );\n",
    "# \"\"\"\n",
    "# )"
   ]
  },
  {
   "cell_type": "code",
   "execution_count": 7,
   "id": "6e0a7384",
   "metadata": {},
   "outputs": [
    {
     "data": {
      "text/plain": [
       "<duckdb.duckdb.DuckDBPyConnection at 0x739103399030>"
      ]
     },
     "execution_count": 7,
     "metadata": {},
     "output_type": "execute_result"
    }
   ],
   "source": [
    "from datetime import datetime\n",
    "from pydantic import BaseModel\n",
    "import json\n",
    "\n",
    "# Sample Pydantic model\n",
    "\n",
    "\n",
    "class Metrics(BaseModel):\n",
    "    num_comments: int\n",
    "    avg_sentiment_score: float\n",
    "    most_common_sentiment: str\n",
    "    likes: int\n",
    "    shares: int\n",
    "    plays: int\n",
    "    collections: int\n",
    "    engagement_score: float\n",
    "    overall_sentiment_score: float\n",
    "\n",
    "\n",
    "m = Metrics(\n",
    "    num_comments=42,\n",
    "    avg_sentiment_score=0.75,\n",
    "    most_common_sentiment=\"positive\",\n",
    "    likes=100,\n",
    "    shares=8,\n",
    "    plays=500,\n",
    "    collections=5,\n",
    "    engagement_score=0.85,\n",
    "    overall_sentiment_score=0.78,\n",
    ")\n",
    "\n",
    "con.execute(\n",
    "    \"\"\"\n",
    "    INSERT INTO platform_metrics (car_id, platform, run_ts, metrics)\n",
    "    VALUES (?, ?, ?, ?)\n",
    "\"\"\",\n",
    "    [\"car123\", \"tiktok\", datetime.now(), m.model_dump_json()],\n",
    ")"
   ]
  },
  {
   "cell_type": "code",
   "execution_count": 4,
   "id": "e186931a",
   "metadata": {},
   "outputs": [
    {
     "name": "stdout",
     "output_type": "stream",
     "text": [
      "ferrari 355 gtb {'num_comments': 3, 'avg_sentiment_score': 0.38641161719957984, 'most_common_sentiment': 'neutral', 'likes': 133, 'shares': 0, 'plays': 0, 'collections': 0, 'engagement_score': 14050.0, 'overall_sentiment_score': 0.38675669246982314, 'topics': None, 'topic_sentiments': None, 'price_series': None, 'popularity_series': None}\n",
      "ferrari dino 246 {'num_comments': 9, 'avg_sentiment_score': 0.39505031875201635, 'most_common_sentiment': 'neutral', 'likes': 589, 'shares': 0, 'plays': 0, 'collections': 0, 'engagement_score': 59900.0, 'overall_sentiment_score': 0.4028284772874316, 'topics': None, 'topic_sentiments': None, 'price_series': None, 'popularity_series': None}\n",
      "lamborghini 350 gt {'num_comments': 13, 'avg_sentiment_score': 0.4059978370865186, 'most_common_sentiment': 'neutral', 'likes': 1019, 'shares': 0, 'plays': 0, 'collections': 0, 'engagement_score': 103400.0, 'overall_sentiment_score': 0.40140688966202515, 'topics': None, 'topic_sentiments': None, 'price_series': None, 'popularity_series': None}\n",
      "ferrari testarossa {'num_comments': 10, 'avg_sentiment_score': 0.3865376874804497, 'most_common_sentiment': 'neutral', 'likes': 899, 'shares': 0, 'plays': 0, 'collections': 0, 'engagement_score': 90900.0, 'overall_sentiment_score': 0.3957478269514455, 'topics': None, 'topic_sentiments': None, 'price_series': None, 'popularity_series': None}\n",
      "ferrari 550 maranello {'num_comments': 11, 'avg_sentiment_score': 0.4009029436856508, 'most_common_sentiment': 'very positive', 'likes': 1597, 'shares': 0, 'plays': 0, 'collections': 0, 'engagement_score': 161500.0, 'overall_sentiment_score': 0.39542236421585714, 'topics': None, 'topic_sentiments': None, 'price_series': None, 'popularity_series': None}\n",
      "ferrari 308 gtb {'num_comments': 10, 'avg_sentiment_score': 0.38633160458670723, 'most_common_sentiment': 'neutral', 'likes': 841, 'shares': 0, 'plays': 0, 'collections': 0, 'engagement_score': 85000.0, 'overall_sentiment_score': 0.39497350290270566, 'topics': None, 'topic_sentiments': None, 'price_series': None, 'popularity_series': None}\n",
      "lamborghini 400 gt {'num_comments': 14, 'avg_sentiment_score': 0.4073790377115502, 'most_common_sentiment': 'very positive', 'likes': 1070, 'shares': 0, 'plays': 0, 'collections': 0, 'engagement_score': 108750.0, 'overall_sentiment_score': 0.4066993947645654, 'topics': None, 'topic_sentiments': None, 'price_series': None, 'popularity_series': None}\n",
      "maserati 3500 gt {'num_comments': 11, 'avg_sentiment_score': 0.40933485542024883, 'most_common_sentiment': 'neutral', 'likes': 847, 'shares': 0, 'plays': 0, 'collections': 0, 'engagement_score': 86000.0, 'overall_sentiment_score': 0.41397700847713703, 'topics': None, 'topic_sentiments': None, 'price_series': None, 'popularity_series': None}\n",
      "ferrari 250 gte {'num_comments': 12, 'avg_sentiment_score': 0.41200492084026336, 'most_common_sentiment': 'neutral', 'likes': 1192, 'shares': 0, 'plays': 0, 'collections': 0, 'engagement_score': 120450.0, 'overall_sentiment_score': 0.40380437234081706, 'topics': None, 'topic_sentiments': None, 'price_series': None, 'popularity_series': None}\n",
      "lamborghini miura p400 {'num_comments': 4, 'avg_sentiment_score': 0.40104633271694184, 'most_common_sentiment': 'neutral', 'likes': 191, 'shares': 0, 'plays': 0, 'collections': 0, 'engagement_score': 20100.0, 'overall_sentiment_score': 0.4045364744465913, 'topics': None, 'topic_sentiments': None, 'price_series': None, 'popularity_series': None}\n",
      "lamborghini diablo vt {'num_comments': 15, 'avg_sentiment_score': 0.3766511262965803, 'most_common_sentiment': 'neutral', 'likes': 2169, 'shares': 0, 'plays': 0, 'collections': 0, 'engagement_score': 218100.0, 'overall_sentiment_score': 0.3827715057286056, 'topics': None, 'topic_sentiments': None, 'price_series': None, 'popularity_series': None}\n",
      "bugatti eb110 {'num_comments': 6, 'avg_sentiment_score': 0.39739254117012024, 'most_common_sentiment': 'neutral', 'likes': 657, 'shares': 0, 'plays': 0, 'collections': 0, 'engagement_score': 66000.0, 'overall_sentiment_score': 0.39175958020231033, 'topics': None, 'topic_sentiments': None, 'price_series': None, 'popularity_series': None}\n",
      "bugatti type 57 {'num_comments': 15, 'avg_sentiment_score': 0.40117162093520164, 'most_common_sentiment': 'neutral', 'likes': 910, 'shares': 0, 'plays': 0, 'collections': 0, 'engagement_score': 92700.0, 'overall_sentiment_score': 0.40324899981480794, 'topics': None, 'topic_sentiments': None, 'price_series': None, 'popularity_series': None}\n",
      "lamborghini countach 25th {'num_comments': 2, 'avg_sentiment_score': 0.38824637940055445, 'most_common_sentiment': 'neutral', 'likes': 125, 'shares': 0, 'plays': 0, 'collections': 0, 'engagement_score': 12700.0, 'overall_sentiment_score': 0.3978432832066535, 'topics': None, 'topic_sentiments': None, 'price_series': None, 'popularity_series': None}\n",
      "ferrari f40 {'num_comments': 9, 'avg_sentiment_score': 0.37277696946901934, 'most_common_sentiment': 'neutral', 'likes': 797, 'shares': 0, 'plays': 0, 'collections': 0, 'engagement_score': 80300.0, 'overall_sentiment_score': 0.37020950847944034, 'topics': None, 'topic_sentiments': None, 'price_series': None, 'popularity_series': None}\n",
      "maserati mistral {'num_comments': 9, 'avg_sentiment_score': 0.3975805938243866, 'most_common_sentiment': 'neutral', 'likes': 835, 'shares': 0, 'plays': 0, 'collections': 0, 'engagement_score': 84500.0, 'overall_sentiment_score': 0.3992032255013391, 'topics': None, 'topic_sentiments': None, 'price_series': None, 'popularity_series': None}\n",
      "ferrari 330 gtc {'num_comments': 10, 'avg_sentiment_score': 0.4056862159208818, 'most_common_sentiment': 'neutral', 'likes': 1079, 'shares': 0, 'plays': 0, 'collections': 0, 'engagement_score': 108900.0, 'overall_sentiment_score': 0.4060742427632788, 'topics': None, 'topic_sentiments': None, 'price_series': None, 'popularity_series': None}\n",
      "lamborghini lm002 {'num_comments': 20, 'avg_sentiment_score': 0.39958333522081374, 'most_common_sentiment': 'neutral', 'likes': 1666, 'shares': 0, 'plays': 0, 'collections': 0, 'engagement_score': 167000.0, 'overall_sentiment_score': 0.39613308962183486, 'topics': None, 'topic_sentiments': None, 'price_series': None, 'popularity_series': None}\n",
      "maserati mc12 {'num_comments': 11, 'avg_sentiment_score': 0.38761784384648, 'most_common_sentiment': 'neutral', 'likes': 1329, 'shares': 0, 'plays': 0, 'collections': 0, 'engagement_score': 134350.0, 'overall_sentiment_score': 0.3783814439705401, 'topics': None, 'topic_sentiments': None, 'price_series': None, 'popularity_series': None}\n"
     ]
    }
   ],
   "source": [
    "import json\n",
    "rows = con.execute(\n",
    "    \"\"\"\n",
    "    SELECT car_id, metrics\n",
    "    FROM (\n",
    "      SELECT *, row_number() OVER (PARTITION BY car_id ORDER BY run_ts DESC) AS rn\n",
    "      FROM platform_metrics\n",
    "      WHERE platform = 'instagram'\n",
    "    )\n",
    "    WHERE rn = 1\n",
    "    \"\"\"\n",
    ").fetchall()\n",
    "\n",
    "for car_id, metrics_blob in rows:\n",
    "    metrics = json.loads(metrics_blob)\n",
    "    print(car_id, metrics)"
   ]
  }
 ],
 "metadata": {
  "kernelspec": {
   "display_name": ".venv",
   "language": "python",
   "name": "python3"
  },
  "language_info": {
   "codemirror_mode": {
    "name": "ipython",
    "version": 3
   },
   "file_extension": ".py",
   "mimetype": "text/x-python",
   "name": "python",
   "nbconvert_exporter": "python",
   "pygments_lexer": "ipython3",
   "version": "3.10.14"
  }
 },
 "nbformat": 4,
 "nbformat_minor": 5
}
