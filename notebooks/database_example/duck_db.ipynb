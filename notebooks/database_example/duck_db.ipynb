{
 "cells": [
  {
   "cell_type": "code",
   "execution_count": 1,
   "id": "416b2d78",
   "metadata": {},
   "outputs": [
    {
     "data": {
      "text/plain": [
       "<duckdb.duckdb.DuckDBPyConnection at 0x739103399030>"
      ]
     },
     "execution_count": 1,
     "metadata": {},
     "output_type": "execute_result"
    }
   ],
   "source": [
    "import duckdb\n",
    "import os\n",
    "from dotenv import load_dotenv\n",
    "import duckdb\n",
    "\n",
    "load_dotenv()  # loads .env into environment\n",
    "\n",
    "db_path = os.getenv(\"DUCKDB_PATH\", \"data.duckdb\")  # default fallback\n",
    "\n",
    "con = duckdb.connect(db_path)  # this creates/opens the file\n",
    "\n",
    "# Create a table if it doesn't exist\n",
    "\n",
    "con.execute(\n",
    "    \"\"\"\n",
    "CREATE TABLE IF NOT EXISTS platform_metrics (\n",
    "    car_id       TEXT,\n",
    "    platform     TEXT,\n",
    "    run_ts       TIMESTAMP,\n",
    "    metrics      JSON,\n",
    "    PRIMARY KEY (car_id, platform, run_ts)\n",
    ");\n",
    "\n",
    "CREATE TABLE IF NOT EXISTS overall_cache (\n",
    "    car_id       TEXT,\n",
    "    run_ts       TIMESTAMP,\n",
    "    metrics      JSON,\n",
    "    PRIMARY KEY (car_id, run_ts)\n",
    ");\n",
    "\"\"\"\n",
    ")"
   ]
  },
  {
   "cell_type": "code",
   "execution_count": 7,
   "id": "6e0a7384",
   "metadata": {},
   "outputs": [
    {
     "data": {
      "text/plain": [
       "<duckdb.duckdb.DuckDBPyConnection at 0x739103399030>"
      ]
     },
     "execution_count": 7,
     "metadata": {},
     "output_type": "execute_result"
    }
   ],
   "source": [
    "from datetime import datetime\n",
    "from pydantic import BaseModel\n",
    "import json\n",
    "\n",
    "# Sample Pydantic model\n",
    "\n",
    "\n",
    "class Metrics(BaseModel):\n",
    "    num_comments: int\n",
    "    avg_sentiment_score: float\n",
    "    most_common_sentiment: str\n",
    "    likes: int\n",
    "    shares: int\n",
    "    plays: int\n",
    "    collections: int\n",
    "    engagement_score: float\n",
    "    overall_sentiment_score: float\n",
    "\n",
    "\n",
    "m = Metrics(\n",
    "    num_comments=42,\n",
    "    avg_sentiment_score=0.75,\n",
    "    most_common_sentiment=\"positive\",\n",
    "    likes=100,\n",
    "    shares=8,\n",
    "    plays=500,\n",
    "    collections=5,\n",
    "    engagement_score=0.85,\n",
    "    overall_sentiment_score=0.78,\n",
    ")\n",
    "\n",
    "con.execute(\n",
    "    \"\"\"\n",
    "    INSERT INTO platform_metrics (car_id, platform, run_ts, metrics)\n",
    "    VALUES (?, ?, ?, ?)\n",
    "\"\"\",\n",
    "    [\"car123\", \"tiktok\", datetime.now(), m.model_dump_json()],\n",
    ")"
   ]
  },
  {
   "cell_type": "code",
   "execution_count": 8,
   "id": "e186931a",
   "metadata": {},
   "outputs": [
    {
     "name": "stdout",
     "output_type": "stream",
     "text": [
      "tiktok {'num_comments': 42, 'avg_sentiment_score': 0.75, 'most_common_sentiment': 'positive', 'likes': 100, 'shares': 8, 'plays': 500, 'collections': 5, 'engagement_score': 0.85, 'overall_sentiment_score': 0.78}\n"
     ]
    }
   ],
   "source": [
    "rows = con.execute(\n",
    "    \"\"\"\n",
    "SELECT platform, metrics\n",
    "FROM (\n",
    "  SELECT *, row_number() OVER (PARTITION BY platform ORDER BY run_ts DESC) AS rn\n",
    "  FROM platform_metrics\n",
    "  WHERE car_id = ?\n",
    ")\n",
    "WHERE rn = 1\n",
    "\"\"\",\n",
    "    [\"car123\"],\n",
    ").fetchall()\n",
    "\n",
    "for platform, metrics_blob in rows:\n",
    "    metrics = json.loads(metrics_blob)\n",
    "    print(platform, metrics)"
   ]
  }
 ],
 "metadata": {
  "kernelspec": {
   "display_name": ".venv",
   "language": "python",
   "name": "python3"
  },
  "language_info": {
   "codemirror_mode": {
    "name": "ipython",
    "version": 3
   },
   "file_extension": ".py",
   "mimetype": "text/x-python",
   "name": "python",
   "nbconvert_exporter": "python",
   "pygments_lexer": "ipython3",
   "version": "3.10.14"
  }
 },
 "nbformat": 4,
 "nbformat_minor": 5
}
