{
 "cells": [
  {
   "cell_type": "code",
   "execution_count": 2,
   "id": "4d09e267",
   "metadata": {},
   "outputs": [
    {
     "name": "stdout",
     "output_type": "stream",
     "text": [
      "🔍 Scraping: Ferrari Testarossa (tag: ferrari-testarossa)\n",
      "🔍 Scraping: Ferrari Daytona GTB (tag: ferrari-daytona-gtb)\n",
      "🔍 Scraping: Ferrari 550 Maranello (tag: ferrari-550-maranello)\n",
      "🔍 Scraping: Ferrari 355 GTB (tag: ferrari-355-gtb)\n",
      "🔍 Scraping: Ferrari 308 GTB (tag: ferrari-308-gtb)\n",
      "🔍 Scraping: Ferrari 330 GTC (tag: ferrari-330-gtc)\n",
      "🔍 Scraping: Ferrari 250 GTE (tag: ferrari-250-gte)\n",
      "🔍 Scraping: Ferrari Dino 246 (tag: ferrari-dino-246)\n",
      "🔍 Scraping: Ferrari F40 (tag: ferrari-f40)\n"
     ]
    }
   ],
   "source": [
    "import requests\n",
    "import bs4\n",
    "import re\n",
    "from urllib.parse import quote_plus\n",
    "\n",
    "# Lista dei modelli Ferrari\n",
    "ferrari_cars = [\n",
    "    'Ferrari Testarossa',\n",
    "    'Ferrari Daytona GTB',\n",
    "    'Ferrari 550 Maranello',\n",
    "    'Ferrari 355 GTB',\n",
    "    'Ferrari 308 GTB',\n",
    "    'Ferrari 330 GTC',\n",
    "    'Ferrari 250 GTE',\n",
    "    'Ferrari Dino 246',\n",
    "    'Ferrari F40',\n",
    "]\n",
    "\n",
    "# Funzione per scraping di un singolo modello\n",
    "def scrape_threads(tag_slug, car_model, pages=2):\n",
    "    url = f'https://www.ferrarichat.com/forum/tags/{tag_slug}/'\n",
    "    Threads = []\n",
    "\n",
    "    for i in range(pages):\n",
    "        page_url = url if i == 0 else f\"{url}page-{i+1}\"\n",
    "        resp = requests.get(page_url)\n",
    "        soup = bs4.BeautifulSoup(resp.text, 'html.parser')\n",
    "\n",
    "        for a in soup.find_all('li', {'class': 'searchResult'}):\n",
    "            try:\n",
    "                title = a.find_all('a')[2].text\n",
    "                tag = a.find_all('a')[1].text\n",
    "                link = 'https://www.ferrarichat.com/forum/' + a.find_all('a')[1]['href']\n",
    "                Threads.append({\n",
    "                    'tag': tag,\n",
    "                    'title': title,\n",
    "                    'link': link,\n",
    "                    'car_model': car_model,\n",
    "                    'web': 'forum'  # ID fisso aggiunto\n",
    "                })\n",
    "            except IndexError:\n",
    "                continue\n",
    "\n",
    "    for i, b in enumerate(Threads[:]):\n",
    "        messages = []\n",
    "        link = b['link']\n",
    "\n",
    "        for j in range(2):  # massimo 2 pagine per thread\n",
    "            page_url = link if j == 0 else f\"{link}/page-{j+1}\"\n",
    "            soup = bs4.BeautifulSoup(requests.get(page_url).text, 'html.parser')\n",
    "            s = soup.find_all('div', {'class': 'messageContent'})\n",
    "        \n",
    "            for m in s:\n",
    "                mess = m.blockquote.text if m.blockquote else \"\"\n",
    "                cleaned = re.sub(r'\\s+', ' ', mess)\n",
    "                cleaned = re.sub(r'Image Unavailable, Please Login', '', cleaned)\n",
    "                cleaned = cleaned.replace('\\xa0', '').strip()\n",
    "                cleaned = re.sub(r'^.*?said: ↑.*?Click to expand\\.\\.\\.', '', cleaned).strip()\n",
    "                messages.append(cleaned)\n",
    "\n",
    "        Threads[i]['messages'] = messages\n",
    "\n",
    "    return Threads\n",
    "\n",
    "# Funzione per iterare su tutti i modelli\n",
    "def scrape_multiple_threads(car_list, pages=2):\n",
    "    all_threads = []\n",
    "    for car in car_list:\n",
    "        slug = quote_plus(car.lower().replace(\" \", \"-\"))\n",
    "        print(f\"🔍 Scraping: {car} (tag: {slug})\")\n",
    "        car_threads = scrape_threads(slug, car, pages)\n",
    "        all_threads.extend(car_threads)\n",
    "    return all_threads\n",
    "\n",
    "# Esempio di uso\n",
    "all_ferrari_threads = scrape_multiple_threads(ferrari_cars, pages=2)\n"
   ]
  },
  {
   "cell_type": "code",
   "execution_count": 6,
   "id": "8e1fca55",
   "metadata": {},
   "outputs": [
    {
     "name": "stdout",
     "output_type": "stream",
     "text": [
      "Dati salvati in: notebooks/data/raw/ferrari_threads.parquet\n"
     ]
    }
   ],
   "source": [
    "import os\n",
    "import pandas as pd\n",
    "import pyarrow as pa\n",
    "import pyarrow.parquet as pq\n",
    "\n",
    "# Percorso dove salvare il file parquet\n",
    "file_path = 'notebooks/data/raw/ferrari_threads.parquet'\n",
    "\n",
    "# Se esiste già il file, lo carichiamo\n",
    "if os.path.exists(file_path):\n",
    "    df = pd.read_parquet(file_path)\n",
    "    print(\"File esistente caricato:\")\n",
    "    print(df.head())\n",
    "else:\n",
    "    # Supponiamo che 'all_ferrari_threads' sia già definito\n",
    "    df = pd.DataFrame(all_ferrari_threads)\n",
    "\n",
    "    # Crea directory se non esiste\n",
    "    os.makedirs(os.path.dirname(file_path), exist_ok=True)\n",
    "\n",
    "    # Salva il DataFrame in formato Parquet\n",
    "    table = pa.Table.from_pandas(df)\n",
    "    pq.write_table(table, file_path)\n",
    "    print(f\"Dati salvati in: {file_path}\")\n",
    "\n"
   ]
  }
 ],
 "metadata": {
  "kernelspec": {
   "display_name": "pytorch_env",
   "language": "python",
   "name": "python3"
  },
  "language_info": {
   "codemirror_mode": {
    "name": "ipython",
    "version": 3
   },
   "file_extension": ".py",
   "mimetype": "text/x-python",
   "name": "python",
   "nbconvert_exporter": "python",
   "pygments_lexer": "ipython3",
   "version": "3.13.2"
  }
 },
 "nbformat": 4,
 "nbformat_minor": 5
}
