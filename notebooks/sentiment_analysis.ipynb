{
 "cells": [
  {
   "cell_type": "markdown",
   "metadata": {},
   "source": [
    "# Sentiment Analysis Test"
   ]
  },
  {
   "cell_type": "code",
   "execution_count": 1,
   "metadata": {},
   "outputs": [],
   "source": [
    "from transformers import pipeline"
   ]
  },
  {
   "cell_type": "code",
   "execution_count": 2,
   "metadata": {},
   "outputs": [
    {
     "name": "stdout",
     "output_type": "stream",
     "text": [
      "Current working directory: /home/ettore/projects/hackathons/MVA_hackathon_2025/vintage_ai\n"
     ]
    }
   ],
   "source": [
    "# set the root folder as ../\n",
    "import os\n",
    "\n",
    "os.chdir(\"../\")\n",
    "# get current working directory\n",
    "print(\"Current working directory:\", os.getcwd())"
   ]
  },
  {
   "cell_type": "code",
   "execution_count": 3,
   "metadata": {},
   "outputs": [
    {
     "name": "stderr",
     "output_type": "stream",
     "text": [
      "Device set to use cuda:0\n"
     ]
    }
   ],
   "source": [
    "# Create the pipeline\n",
    "pipe = pipeline(\n",
    "    \"text-classification\", model=\"tabularisai/multilingual-sentiment-analysis\"\n",
    ")\n",
    "\n",
    "# Save the model and tokenizer to a local directory\n",
    "pipe.save_pretrained(\"data/models/sentiment_analysis/tabularisai\")"
   ]
  },
  {
   "cell_type": "code",
   "execution_count": 4,
   "metadata": {},
   "outputs": [
    {
     "name": "stderr",
     "output_type": "stream",
     "text": [
      "Device set to use cuda:0\n"
     ]
    },
    {
     "name": "stdout",
     "output_type": "stream",
     "text": [
      "[{'label': 'Very Positive', 'score': 0.5922621488571167}]\n"
     ]
    }
   ],
   "source": [
    "# Load the classification pipeline with the specified model\n",
    "pipe = pipeline(\n",
    "    \"text-classification\", model=\"data/models/sentiment_analysis/tabularisai\"\n",
    ")\n",
    "\n",
    "# Classify a new sentence\n",
    "sentence = \"I love this product! It's amazing and works perfectly.\"\n",
    "result = pipe(sentence)\n",
    "\n",
    "# Print the result\n",
    "print(result)"
   ]
  },
  {
   "cell_type": "code",
   "execution_count": 5,
   "metadata": {},
   "outputs": [
    {
     "name": "stdout",
     "output_type": "stream",
     "text": [
      "[{'label': 'Neutral', 'score': 0.3738241493701935}]\n"
     ]
    }
   ],
   "source": [
    "# Classify a new sentence in Italian\n",
    "sentence = (\n",
    "    \"Non sono convinto della rivendibilità di questa macchina, ma la trovo molto bella.\"\n",
    ")\n",
    "result = pipe(sentence)\n",
    "\n",
    "# Print the result\n",
    "print(result)"
   ]
  }
 ],
 "metadata": {
  "kernelspec": {
   "display_name": ".venv",
   "language": "python",
   "name": "python3"
  },
  "language_info": {
   "codemirror_mode": {
    "name": "ipython",
    "version": 3
   },
   "file_extension": ".py",
   "mimetype": "text/x-python",
   "name": "python",
   "nbconvert_exporter": "python",
   "pygments_lexer": "ipython3",
   "version": "3.10.14"
  }
 },
 "nbformat": 4,
 "nbformat_minor": 2
}
