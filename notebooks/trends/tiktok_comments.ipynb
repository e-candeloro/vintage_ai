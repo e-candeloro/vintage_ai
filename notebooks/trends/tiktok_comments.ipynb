{
 "cells": [
  {
   "cell_type": "code",
   "execution_count": 3,
   "id": "79ca8df9",
   "metadata": {},
   "outputs": [
    {
     "name": "stdout",
     "output_type": "stream",
     "text": [
      "1. La Ferrari più bella che ci sia!! (by None)\n",
      "2. ma quanto è bella sempre intramontabile 💪 (by None)\n",
      "3. ma davvero c'e' chi preferisce la countach? (by None)\n",
      "4. Le supersportive Italiane,sono le migliori in assoluto....... (by None)\n",
      "5. Bellezza e fascino senza tempo😍😍😍, la Ferrari testa rossa ha linee belle. che sembra uscita ora dalla fabbrica (by None)\n"
     ]
    }
   ],
   "source": [
    "import requests\n",
    "from dotenv import load_dotenv\n",
    "import os\n",
    "\n",
    "# Load environment variables from .env file\n",
    "load_dotenv()\n",
    "APIFY_TOKEN = os.getenv(\"APIFY_API_KEY\")\n",
    "\n",
    "# Ensure the token is present\n",
    "if not APIFY_TOKEN:\n",
    "    raise OSError(\"APIFY_API_KEY not found in environment variables.\")\n",
    "\n",
    "# TikTok video URL to scrape\n",
    "tiktok_url = \"https://www.tiktok.com/@cioccatalin1/video/7456347160892706070\"\n",
    "\n",
    "# API endpoint\n",
    "run_url = f\"https://api.apify.com/v2/acts/clockworks~tiktok-comments-scraper/run-sync-get-dataset-items?token={APIFY_TOKEN}\"\n",
    "\n",
    "# Input payload for the actor\n",
    "payload = {\n",
    "    \"postURLs\": [tiktok_url],\n",
    "    \"commentsPerPost\": 50,\n",
    "    \"maxRepliesPerComment\": 0,\n",
    "    \"resultsPerPage\": 50,\n",
    "}\n",
    "\n",
    "# Make the POST request\n",
    "response = requests.post(run_url, json=payload)\n",
    "response.raise_for_status()\n",
    "comments = response.json()\n",
    "\n",
    "# Print a few comments\n",
    "for i, comment in enumerate(comments[:5], start=1):\n",
    "    print(f\"{i}. {comment.get('text')} (by {comment.get('username')})\")"
   ]
  },
  {
   "cell_type": "code",
   "execution_count": null,
   "id": "3b1b32e9",
   "metadata": {},
   "outputs": [],
   "source": []
  }
 ],
 "metadata": {
  "kernelspec": {
   "display_name": ".venv",
   "language": "python",
   "name": "python3"
  },
  "language_info": {
   "codemirror_mode": {
    "name": "ipython",
    "version": 3
   },
   "file_extension": ".py",
   "mimetype": "text/x-python",
   "name": "python",
   "nbconvert_exporter": "python",
   "pygments_lexer": "ipython3",
   "version": "3.10.14"
  }
 },
 "nbformat": 4,
 "nbformat_minor": 5
}
