{
 "cells": [
  {
   "cell_type": "code",
   "execution_count": null,
   "id": "1df19d05",
   "metadata": {},
   "outputs": [],
   "source": [
    "import json\n",
    "import asyncio\n",
    "import pandas as pd\n",
    "from crawl4ai import AsyncWebCrawler\n",
    "\n",
    "# old.reddit is simpler HTML & still supports .json\n",
    "REDDIT = \"https://old.reddit.com\"\n",
    "\n",
    "\n",
    "async def fetch_subreddit(\n",
    "    sub: str, pages: int = 3, concurrency: int = 10\n",
    ") -> pd.DataFrame:\n",
    "    \"\"\"\n",
    "    Pull `pages` * 100 posts from a subreddit via the .json listing, using Crawl4AI.\n",
    "\n",
    "    Returns\n",
    "    -------\n",
    "    DataFrame with columns: id, title, score, author, created_utc, url\n",
    "    \"\"\"\n",
    "    crawler = AsyncWebCrawler(\n",
    "        concurrency=concurrency,\n",
    "        default_headers={\"User-Agent\": \"Mozilla/5.0 Crawl4AI demo\"},\n",
    "    )\n",
    "    after = \"\"\n",
    "    rows = []\n",
    "\n",
    "    async with crawler:\n",
    "        for _ in range(pages):\n",
    "            url = f\"{REDDIT}/r/{sub}.json?limit=100&after={after}\"\n",
    "            resp = await crawler.arun(url)\n",
    "            data = json.loads(resp.text)\n",
    "            # pagination token for next loop\n",
    "            after = data[\"data\"][\"after\"] or \"\"\n",
    "            for post in data[\"data\"][\"children\"]:\n",
    "                d = post[\"data\"]\n",
    "                rows.append(\n",
    "                    {\n",
    "                        \"id\": d[\"id\"],\n",
    "                        \"title\": d[\"title\"],\n",
    "                        \"score\": d[\"score\"],\n",
    "                        \"author\": d[\"author\"],\n",
    "                        \"created_utc\": d[\"created_utc\"],\n",
    "                        \"permalink\": f'https://reddit.com{d[\"permalink\"]}',\n",
    "                    }\n",
    "                )\n",
    "            if not after:  # reached end\n",
    "                break\n",
    "    return pd.DataFrame(rows)"
   ]
  }
 ],
 "metadata": {
  "language_info": {
   "name": "python"
  }
 },
 "nbformat": 4,
 "nbformat_minor": 5
}
