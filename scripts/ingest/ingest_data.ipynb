{
 "cells": [
  {
   "cell_type": "code",
   "execution_count": 1,
   "id": "9c218a6a",
   "metadata": {},
   "outputs": [],
   "source": [
    "import duckdb\n",
    "import os\n",
    "from dotenv import load_dotenv\n",
    "import duckdb\n",
    "\n",
    "load_dotenv()  # loads .env into environment\n",
    "\n",
    "db_path = os.getenv(\"DUCKDB_PATH\", \"data.duckdb\")  # default fallback\n",
    "\n",
    "con = duckdb.connect(db_path)  # this creates/opens the file"
   ]
  },
  {
   "cell_type": "code",
   "execution_count": 2,
   "id": "ddbcb48f",
   "metadata": {},
   "outputs": [
    {
     "ename": "ConversionException",
     "evalue": "Conversion Error: invalid timestamp field format: \"ferrari f40\", expected format is (YYYY-MM-DD HH:MM:SS[.US][±HH[:MM[:SS]]| ZONE]) when casting from source column car_id",
     "output_type": "error",
     "traceback": [
      "\u001b[0;31m---------------------------------------------------------------------------\u001b[0m",
      "\u001b[0;31mConversionException\u001b[0m                       Traceback (most recent call last)",
      "Cell \u001b[0;32mIn[2], line 36\u001b[0m\n\u001b[1;32m     27\u001b[0m con\u001b[38;5;241m.\u001b[39mexecute(\u001b[38;5;124m\"\"\"\u001b[39m\n\u001b[1;32m     28\u001b[0m \u001b[38;5;124m    CREATE TABLE IF NOT EXISTS car_price_popularity (\u001b[39m\n\u001b[1;32m     29\u001b[0m \u001b[38;5;124m        car_id TEXT,\u001b[39m\n\u001b[0;32m   (...)\u001b[0m\n\u001b[1;32m     33\u001b[0m \u001b[38;5;124m    )\u001b[39m\n\u001b[1;32m     34\u001b[0m \u001b[38;5;124m\"\"\"\u001b[39m)\n\u001b[1;32m     35\u001b[0m con\u001b[38;5;241m.\u001b[39mregister(\u001b[38;5;124m\"\u001b[39m\u001b[38;5;124mcombined_df\u001b[39m\u001b[38;5;124m\"\u001b[39m, combined_df)\n\u001b[0;32m---> 36\u001b[0m \u001b[43mcon\u001b[49m\u001b[38;5;241;43m.\u001b[39;49m\u001b[43mexecute\u001b[49m\u001b[43m(\u001b[49m\u001b[38;5;124;43m\"\u001b[39;49m\u001b[38;5;124;43mINSERT INTO car_price_popularity SELECT * FROM combined_df\u001b[39;49m\u001b[38;5;124;43m\"\u001b[39;49m\u001b[43m)\u001b[49m\n\u001b[1;32m     37\u001b[0m con\u001b[38;5;241m.\u001b[39mexecute(\u001b[38;5;124m\"\u001b[39m\u001b[38;5;124mCREATE INDEX IF NOT EXISTS idx_car_price_popularity ON car_price_popularity(car_id, metric, ts)\u001b[39m\u001b[38;5;124m\"\u001b[39m)\n",
      "\u001b[0;31mConversionException\u001b[0m: Conversion Error: invalid timestamp field format: \"ferrari f40\", expected format is (YYYY-MM-DD HH:MM:SS[.US][±HH[:MM[:SS]]| ZONE]) when casting from source column car_id"
     ]
    }
   ],
   "source": [
    "import pandas as pd\n",
    "import duckdb\n",
    "from pathlib import Path\n",
    "\n",
    "# Path to the Excel file\n",
    "EXCEL_PATH = Path(\n",
    "    \"/home/ettore/projects/hackathons/MVA_hackathon_2025/vintage_ai/data/raw/asset_classic_new_data.xlsx\")\n",
    "\n",
    "# --- Helper to load and normalize a sheet --- #\n",
    "def load_and_melt(sheet_name: str, metric_name: str) -> pd.DataFrame:\n",
    "    df = pd.read_excel(EXCEL_PATH, sheet_name=sheet_name)\n",
    "    df.rename(columns={df.columns[0]: \"ts\"}, inplace=True)  # rename first column to 'ts'\n",
    "    df[\"ts\"] = pd.to_datetime(df[\"ts\"], errors=\"coerce\")    # coerce invalid timestamps\n",
    "    df = df.melt(id_vars=\"ts\", var_name=\"car_id\", value_name=\"value\")\n",
    "    df[\"car_id\"] = df[\"car_id\"].astype(str).str.strip().str.lower()\n",
    "    df[\"metric\"] = metric_name\n",
    "    return df.dropna(subset=[\"value\", \"ts\"])  # drop invalid rows\n",
    "\n",
    "# --- Load and tag both datasets --- #\n",
    "monthly_df = load_and_melt(\"monthly\", \"price\")\n",
    "annual_df = load_and_melt(\"annual\", \"popularity\")\n",
    "\n",
    "# --- Combine into one dataset --- #\n",
    "combined_df = pd.concat([monthly_df, annual_df], ignore_index=True)\n",
    "\n",
    "# --- Store in DuckDB --- #\n",
    "con.execute(\"\"\"\n",
    "    CREATE TABLE IF NOT EXISTS car_price_popularity (\n",
    "        car_id TEXT,\n",
    "        ts TIMESTAMP,\n",
    "        metric TEXT,\n",
    "        value DOUBLE\n",
    "    )\n",
    "\"\"\")\n",
    "con.register(\"combined_df\", combined_df)\n",
    "con.execute(\"INSERT INTO car_price_popularity SELECT * FROM combined_df\")\n",
    "con.execute(\"CREATE INDEX IF NOT EXISTS idx_car_price_popularity ON car_price_popularity(car_id, metric, ts)\")"
   ]
  },
  {
   "cell_type": "code",
   "execution_count": 3,
   "id": "7df42de5",
   "metadata": {},
   "outputs": [
    {
     "data": {
      "text/plain": [
       "<duckdb.duckdb.DuckDBPyConnection at 0x7dcee768fa70>"
      ]
     },
     "execution_count": 3,
     "metadata": {},
     "output_type": "execute_result"
    }
   ],
   "source": [
    "con.execute(\"DROP TABLE IF EXISTS car_price_popularity\")"
   ]
  },
  {
   "cell_type": "code",
   "execution_count": 4,
   "id": "0ed8baa2",
   "metadata": {},
   "outputs": [
    {
     "data": {
      "text/plain": [
       "<duckdb.duckdb.DuckDBPyConnection at 0x7dcee768fa70>"
      ]
     },
     "execution_count": 4,
     "metadata": {},
     "output_type": "execute_result"
    }
   ],
   "source": [
    "con.execute(\"\"\"\n",
    "CREATE TABLE car_price_popularity (\n",
    "    car_id  TEXT,\n",
    "    ts      TIMESTAMP,\n",
    "    metric  TEXT,\n",
    "    value   DOUBLE\n",
    ")\n",
    "\"\"\")"
   ]
  },
  {
   "cell_type": "code",
   "execution_count": 5,
   "id": "1f46cff9",
   "metadata": {},
   "outputs": [
    {
     "data": {
      "text/plain": [
       "<duckdb.duckdb.DuckDBPyConnection at 0x7dcee768fa70>"
      ]
     },
     "execution_count": 5,
     "metadata": {},
     "output_type": "execute_result"
    }
   ],
   "source": [
    "con.register(\"combined_df\", combined_df)\n",
    "\n",
    "con.execute(\"\"\"\n",
    "INSERT INTO car_price_popularity   -- target columns are fixed\n",
    "        (car_id, ts, metric, value)\n",
    "SELECT  car_id::TEXT,             -- make the casts explicit\n",
    "        ts::TIMESTAMP,\n",
    "        metric::TEXT,\n",
    "        value::DOUBLE\n",
    "FROM combined_df\n",
    "\"\"\")"
   ]
  },
  {
   "cell_type": "code",
   "execution_count": 6,
   "id": "e9c1c098",
   "metadata": {},
   "outputs": [
    {
     "data": {
      "text/plain": [
       "<duckdb.duckdb.DuckDBPyConnection at 0x7dcee768fa70>"
      ]
     },
     "execution_count": 6,
     "metadata": {},
     "output_type": "execute_result"
    }
   ],
   "source": [
    "con.execute(\"SET GLOBAL pandas_analyze_sample=100000\")  # or any big number"
   ]
  },
  {
   "cell_type": "code",
   "execution_count": 7,
   "id": "cd4e4497",
   "metadata": {},
   "outputs": [
    {
     "name": "stdout",
     "output_type": "stream",
     "text": [
      "ts        datetime64[ns]\n",
      "car_id            object\n",
      "value             object\n",
      "metric            object\n",
      "dtype: object\n"
     ]
    }
   ],
   "source": [
    "print(combined_df.dtypes)"
   ]
  },
  {
   "cell_type": "code",
   "execution_count": 8,
   "id": "84f5bc1b",
   "metadata": {},
   "outputs": [],
   "source": [
    "combined_df[\"value\"] = pd.to_numeric(combined_df[\"value\"], errors=\"coerce\")\n",
    "combined_df = combined_df.dropna(subset=[\"value\", \"ts\"])"
   ]
  },
  {
   "cell_type": "code",
   "execution_count": 9,
   "id": "ac6e1137",
   "metadata": {},
   "outputs": [
    {
     "name": "stdout",
     "output_type": "stream",
     "text": [
      "ts        datetime64[ns]\n",
      "car_id            object\n",
      "value            float64\n",
      "metric            object\n",
      "dtype: object\n"
     ]
    }
   ],
   "source": [
    "print(combined_df.dtypes)"
   ]
  },
  {
   "cell_type": "code",
   "execution_count": 10,
   "id": "c0fe2d51",
   "metadata": {},
   "outputs": [
    {
     "name": "stdout",
     "output_type": "stream",
     "text": [
      "ts        datetime64[ns]\n",
      "car_id            object\n",
      "value            float64\n",
      "metric            object\n",
      "dtype: object\n"
     ]
    }
   ],
   "source": [
    "combined_df = pd.concat([monthly_df, annual_df], ignore_index=True)\n",
    "\n",
    "# 👉 Coerce numeric types\n",
    "combined_df[\"value\"] = pd.to_numeric(combined_df[\"value\"], errors=\"coerce\")\n",
    "combined_df = combined_df.dropna(subset=[\"value\", \"ts\"])\n",
    "\n",
    "print(combined_df.dtypes)"
   ]
  },
  {
   "cell_type": "code",
   "execution_count": 11,
   "id": "1b6be04b",
   "metadata": {},
   "outputs": [
    {
     "data": {
      "text/plain": [
       "<duckdb.duckdb.DuckDBPyConnection at 0x7dcee768fa70>"
      ]
     },
     "execution_count": 11,
     "metadata": {},
     "output_type": "execute_result"
    }
   ],
   "source": [
    "con.register(\"combined_df\", combined_df)\n",
    "\n",
    "con.execute(\"\"\"\n",
    "INSERT INTO car_price_popularity (car_id, ts, metric, value)\n",
    "SELECT \n",
    "    car_id::TEXT,\n",
    "    ts::TIMESTAMP,\n",
    "    metric::TEXT,\n",
    "    value::DOUBLE\n",
    "FROM combined_df\n",
    "\"\"\")"
   ]
  },
  {
   "cell_type": "code",
   "execution_count": 12,
   "id": "e1c9e5ad",
   "metadata": {},
   "outputs": [
    {
     "data": {
      "text/html": [
       "<div>\n",
       "<style scoped>\n",
       "    .dataframe tbody tr th:only-of-type {\n",
       "        vertical-align: middle;\n",
       "    }\n",
       "\n",
       "    .dataframe tbody tr th {\n",
       "        vertical-align: top;\n",
       "    }\n",
       "\n",
       "    .dataframe thead th {\n",
       "        text-align: right;\n",
       "    }\n",
       "</style>\n",
       "<table border=\"1\" class=\"dataframe\">\n",
       "  <thead>\n",
       "    <tr style=\"text-align: right;\">\n",
       "      <th></th>\n",
       "      <th>car_id</th>\n",
       "      <th>ts</th>\n",
       "      <th>metric</th>\n",
       "      <th>value</th>\n",
       "    </tr>\n",
       "  </thead>\n",
       "  <tbody>\n",
       "    <tr>\n",
       "      <th>0</th>\n",
       "      <td>ferrari f40</td>\n",
       "      <td>2006-01-01</td>\n",
       "      <td>price</td>\n",
       "      <td>231962.4644</td>\n",
       "    </tr>\n",
       "    <tr>\n",
       "      <th>1</th>\n",
       "      <td>ferrari f40</td>\n",
       "      <td>2006-02-01</td>\n",
       "      <td>price</td>\n",
       "      <td>242383.3204</td>\n",
       "    </tr>\n",
       "    <tr>\n",
       "      <th>2</th>\n",
       "      <td>ferrari f40</td>\n",
       "      <td>2006-03-01</td>\n",
       "      <td>price</td>\n",
       "      <td>252804.1765</td>\n",
       "    </tr>\n",
       "    <tr>\n",
       "      <th>3</th>\n",
       "      <td>ferrari f40</td>\n",
       "      <td>2006-04-01</td>\n",
       "      <td>price</td>\n",
       "      <td>263225.0325</td>\n",
       "    </tr>\n",
       "    <tr>\n",
       "      <th>4</th>\n",
       "      <td>ferrari f40</td>\n",
       "      <td>2006-05-01</td>\n",
       "      <td>price</td>\n",
       "      <td>273645.8886</td>\n",
       "    </tr>\n",
       "  </tbody>\n",
       "</table>\n",
       "</div>"
      ],
      "text/plain": [
       "        car_id         ts metric        value\n",
       "0  ferrari f40 2006-01-01  price  231962.4644\n",
       "1  ferrari f40 2006-02-01  price  242383.3204\n",
       "2  ferrari f40 2006-03-01  price  252804.1765\n",
       "3  ferrari f40 2006-04-01  price  263225.0325\n",
       "4  ferrari f40 2006-05-01  price  273645.8886"
      ]
     },
     "execution_count": 12,
     "metadata": {},
     "output_type": "execute_result"
    }
   ],
   "source": [
    "con.execute(\"SELECT * FROM car_price_popularity LIMIT 5\").fetchdf()"
   ]
  },
  {
   "cell_type": "code",
   "execution_count": 13,
   "id": "5d05cddf",
   "metadata": {},
   "outputs": [
    {
     "name": "stdout",
     "output_type": "stream",
     "text": [
      "  column_name column_type null   key default extra\n",
      "0      car_id     VARCHAR  YES  None    None  None\n",
      "1          ts   TIMESTAMP  YES  None    None  None\n",
      "2      metric     VARCHAR  YES  None    None  None\n",
      "3       value      DOUBLE  YES  None    None  None\n"
     ]
    }
   ],
   "source": [
    "schema_df = con.execute(\"DESCRIBE car_price_popularity\").fetchdf()\n",
    "print(schema_df)"
   ]
  },
  {
   "cell_type": "code",
   "execution_count": 14,
   "id": "9ec42275",
   "metadata": {},
   "outputs": [
    {
     "name": "stdout",
     "output_type": "stream",
     "text": [
      "  column_name column_type null   key default extra\n",
      "0      car_id     VARCHAR   NO   PRI    None  None\n",
      "1    platform     VARCHAR   NO   PRI    None  None\n",
      "2      run_ts   TIMESTAMP   NO   PRI    None  None\n",
      "3     metrics        JSON  YES  None    None  None\n"
     ]
    }
   ],
   "source": [
    "schema_df = con.execute(\"DESCRIBE platform_metrics\").fetchdf()\n",
    "print(schema_df)"
   ]
  },
  {
   "cell_type": "code",
   "execution_count": 17,
   "id": "7714869a",
   "metadata": {},
   "outputs": [
    {
     "name": "stdout",
     "output_type": "stream",
     "text": [
      "  column_name column_type null   key default extra\n",
      "0      car_id     VARCHAR   NO   PRI    None  None\n",
      "1      run_ts   TIMESTAMP   NO   PRI    None  None\n",
      "2     metrics        JSON  YES  None    None  None\n"
     ]
    }
   ],
   "source": [
    "schema_df = con.execute(\"DESCRIBE overall_cache\").fetchdf()\n",
    "print(schema_df)"
   ]
  },
  {
   "cell_type": "code",
   "execution_count": 19,
   "id": "e5682313",
   "metadata": {},
   "outputs": [
    {
     "name": "stdout",
     "output_type": "stream",
     "text": [
      "None\n"
     ]
    }
   ],
   "source": [
    "import duckdb\n",
    "\n",
    "with duckdb.connect(db_path) as con:\n",
    "    row = con.execute(\"\"\"\n",
    "        SELECT *\n",
    "        FROM overall_cache\n",
    "        USING SAMPLE 1\n",
    "    \"\"\").fetchone()\n",
    "\n",
    "print(row)"
   ]
  },
  {
   "cell_type": "code",
   "execution_count": 16,
   "id": "7fdfec6c",
   "metadata": {},
   "outputs": [
    {
     "ename": "ModuleNotFoundError",
     "evalue": "No module named 'vintage_ai'",
     "output_type": "error",
     "traceback": [
      "\u001b[0;31m---------------------------------------------------------------------------\u001b[0m",
      "\u001b[0;31mModuleNotFoundError\u001b[0m                       Traceback (most recent call last)",
      "Cell \u001b[0;32mIn[16], line 3\u001b[0m\n\u001b[1;32m      1\u001b[0m \u001b[38;5;28;01mimport\u001b[39;00m\u001b[38;5;250m \u001b[39m\u001b[38;5;21;01mjson\u001b[39;00m\n\u001b[1;32m      2\u001b[0m \u001b[38;5;28;01mfrom\u001b[39;00m\u001b[38;5;250m \u001b[39m\u001b[38;5;21;01mdatetime\u001b[39;00m\u001b[38;5;250m \u001b[39m\u001b[38;5;28;01mimport\u001b[39;00m datetime\n\u001b[0;32m----> 3\u001b[0m \u001b[38;5;28;01mfrom\u001b[39;00m\u001b[38;5;250m \u001b[39m\u001b[38;5;21;01mvintage_ai\u001b[39;00m\u001b[38;5;21;01m.\u001b[39;00m\u001b[38;5;21;01mapi\u001b[39;00m\u001b[38;5;21;01m.\u001b[39;00m\u001b[38;5;21;01mcore\u001b[39;00m\u001b[38;5;21;01m.\u001b[39;00m\u001b[38;5;21;01mschemas\u001b[39;00m\u001b[38;5;21;01m.\u001b[39;00m\u001b[38;5;21;01mv1\u001b[39;00m\u001b[38;5;250m \u001b[39m\u001b[38;5;28;01mimport\u001b[39;00m CarMetric\n\u001b[1;32m      6\u001b[0m \u001b[38;5;28;01mdef\u001b[39;00m\u001b[38;5;250m \u001b[39m\u001b[38;5;21maggregate_metrics_and_cache\u001b[39m(car_id: \u001b[38;5;28mstr\u001b[39m) \u001b[38;5;241m-\u001b[39m\u001b[38;5;241m>\u001b[39m \u001b[38;5;28mlist\u001b[39m[CarMetric]:\n\u001b[1;32m      7\u001b[0m \n\u001b[1;32m      8\u001b[0m     \u001b[38;5;66;03m# Step 1: fetch latest metrics per platform\u001b[39;00m\n\u001b[1;32m      9\u001b[0m     rows \u001b[38;5;241m=\u001b[39m con\u001b[38;5;241m.\u001b[39mexecute(\u001b[38;5;124m\"\"\"\u001b[39m\n\u001b[1;32m     10\u001b[0m \u001b[38;5;124m        SELECT platform, metrics\u001b[39m\n\u001b[1;32m     11\u001b[0m \u001b[38;5;124m        FROM (\u001b[39m\n\u001b[0;32m   (...)\u001b[0m\n\u001b[1;32m     16\u001b[0m \u001b[38;5;124m        WHERE rn = 1\u001b[39m\n\u001b[1;32m     17\u001b[0m \u001b[38;5;124m    \u001b[39m\u001b[38;5;124m\"\"\"\u001b[39m, [car_id])\u001b[38;5;241m.\u001b[39mfetchall()\n",
      "\u001b[0;31mModuleNotFoundError\u001b[0m: No module named 'vintage_ai'"
     ]
    }
   ],
   "source": [
    "import json\n",
    "from datetime import datetime\n",
    "from vintage_ai.api.core.schemas.v1 import CarMetric\n",
    "\n",
    "\n",
    "def aggregate_metrics_and_cache(car_id: str) -> list[CarMetric]:\n",
    "\n",
    "    # Step 1: fetch latest metrics per platform\n",
    "    rows = con.execute(\"\"\"\n",
    "        SELECT platform, metrics\n",
    "        FROM (\n",
    "            SELECT *, row_number() OVER (PARTITION BY platform ORDER BY run_ts DESC) AS rn\n",
    "            FROM platform_metrics\n",
    "            WHERE car_id = ?\n",
    "        )\n",
    "        WHERE rn = 1\n",
    "    \"\"\", [car_id]).fetchall()\n",
    "\n",
    "    # Step 2: merge all JSON blobs\n",
    "    merged: dict[str, float | int | None] = {}\n",
    "    for _platform, metrics_json in rows:\n",
    "        merged |= json.loads(metrics_json)\n",
    "\n",
    "    # Step 3: enrich with price/popularity trend if present\n",
    "    price_rows = con.execute(\"\"\"\n",
    "        SELECT metric, value\n",
    "        FROM car_price_popularity\n",
    "        WHERE car_id = ?\n",
    "          AND ts >= NOW() - INTERVAL 1 YEAR\n",
    "    \"\"\", [car_id]).fetchall()\n",
    "\n",
    "    # Collect the most recent value for each metric\n",
    "    recent = {}\n",
    "    for metric, value in price_rows:\n",
    "        recent[metric] = value  # will be overwritten with last (latest) row\n",
    "\n",
    "    # Add to merged result\n",
    "    merged.update({\n",
    "        f\"latest_{k}\": v for k, v in recent.items()\n",
    "    })\n",
    "\n",
    "    # Step 4: cache the result\n",
    "    con.execute(\"\"\"\n",
    "        INSERT OR REPLACE INTO overall_cache\n",
    "        VALUES (?, ?, ?)\n",
    "    \"\"\", [car_id, datetime.utcnow(), json.dumps(merged)])\n",
    "\n",
    "    # Step 5: return as list[CarMetric]\n",
    "    return [CarMetric(metric=k, value=v) for k, v in merged.items()]"
   ]
  }
 ],
 "metadata": {
  "kernelspec": {
   "display_name": ".venv",
   "language": "python",
   "name": "python3"
  },
  "language_info": {
   "codemirror_mode": {
    "name": "ipython",
    "version": 3
   },
   "file_extension": ".py",
   "mimetype": "text/x-python",
   "name": "python",
   "nbconvert_exporter": "python",
   "pygments_lexer": "ipython3",
   "version": "3.10.14"
  }
 },
 "nbformat": 4,
 "nbformat_minor": 5
}
